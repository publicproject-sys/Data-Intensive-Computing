{
 "cells": [
  {
   "cell_type": "code",
   "execution_count": 17,
   "id": "6f01b9c8-6df2-4ce8-964b-a070ef3e4adc",
   "metadata": {
    "tags": []
   },
   "outputs": [],
   "source": [
    "import json\n",
    "import pandas as pd\n",
    "from pyspark import SparkContext\n",
    "from pyspark.ml import Pipeline\n",
    "from pyspark.ml.feature import HashingTF, Tokenizer, StopWordsRemover, ChiSqSelector, IDF\n",
    "from pyspark.sql import SparkSession\n"
   ]
  },
  {
   "cell_type": "code",
   "execution_count": 18,
   "id": "9c3cce1d-3ef5-449b-9394-f55de4ec2e56",
   "metadata": {
    "tags": []
   },
   "outputs": [
    {
     "name": "stdout",
     "output_type": "stream",
     "text": [
      "           reviewerID        asin                    reviewerName helpful  \\\n",
      "0      A2VNYWOPJ13AFP  0981850006    Amazon Customer \"carringt0n\"  [6, 7]   \n",
      "1      A2E5XXXC07AGA7  B00002N66D                           James  [1, 1]   \n",
      "2      A16PX63WZIEQ13  B00002N67U                         Finaldx  [0, 1]   \n",
      "3      A2OSWM3522VARA  B00002N6AN  Wayne Allen \"Motoring Patriot\"  [0, 0]   \n",
      "4      A2SX9YPPGEUADI  B00002N8K3   HappyCamper \"Happy Housewife\"  [4, 5]   \n",
      "...               ...         ...                             ...     ...   \n",
      "78824  A28E5PHOPLIOVI  B00KA4H00E                             JDG  [0, 0]   \n",
      "78825  A3LL2X96LT6HS6  B00KDOVQ74                  Theresa Franks  [0, 0]   \n",
      "78826  A1B4BFGW8ELS7N  B00KK7K6XY                       P. Foster  [0, 0]   \n",
      "78827  A2Z7B7VOR4F9ID  B00KQYEJXO                          Kramer  [0, 0]   \n",
      "78828  A11FQMMFNJ1AW6  B00L1H4I0Y                      Adam Crain  [0, 0]   \n",
      "\n",
      "                                              reviewText  overall  \\\n",
      "0      This was a gift for my other husband.  He's ma...      5.0   \n",
      "1      This is a very nice spreader.  It feels very s...      5.0   \n",
      "2      The metal base with the hose attachments is ve...      1.0   \n",
      "3      For the most part this works pretty good. I bo...      4.0   \n",
      "4      This hose is supposed to be flexible.  Its har...      1.0   \n",
      "...                                                  ...      ...   \n",
      "78824  my wife looks so good in this. wish we would h...      5.0   \n",
      "78825  I gave Forskolin a try since I really needed t...      5.0   \n",
      "78826  I incorporated Garcinia Cambogia with my exerc...      5.0   \n",
      "78827  I tried most lip balms and this Pina Colada fr...      5.0   \n",
      "78828  I bought the bottle of tablets as a bit of a s...      5.0   \n",
      "\n",
      "                             summary  unixReviewTime   reviewTime  \\\n",
      "0                             Delish      1259798400   12 3, 2009   \n",
      "1                      Nice spreader      1354492800   12 3, 2012   \n",
      "2                Terrible spike base      1218585600  08 13, 2008   \n",
      "3                  gets the job done      1254355200   10 1, 2009   \n",
      "4                          The worst      1373673600  07 13, 2013   \n",
      "...                              ...             ...          ...   \n",
      "78824  my wife looks so good in this      1405987200  07 22, 2014   \n",
      "78825                    Weight Loss      1405814400  07 20, 2014   \n",
      "78826     Helped get over my plateau      1404259200   07 2, 2014   \n",
      "78827                    Pina Colada      1402531200  06 12, 2014   \n",
      "78828            Absolutely Amazing!      1405209600  07 13, 2014   \n",
      "\n",
      "                       category  \n",
      "0          Patio_Lawn_and_Garde  \n",
      "1          Patio_Lawn_and_Garde  \n",
      "2          Patio_Lawn_and_Garde  \n",
      "3          Patio_Lawn_and_Garde  \n",
      "4          Patio_Lawn_and_Garde  \n",
      "...                         ...  \n",
      "78824  Health_and_Personal_Care  \n",
      "78825  Health_and_Personal_Care  \n",
      "78826  Health_and_Personal_Care  \n",
      "78827  Health_and_Personal_Care  \n",
      "78828  Health_and_Personal_Care  \n",
      "\n",
      "[78829 rows x 10 columns]\n",
      "                                              reviewText  \\\n",
      "0      This was a gift for my other husband.  He's ma...   \n",
      "1      This is a very nice spreader.  It feels very s...   \n",
      "2      The metal base with the hose attachments is ve...   \n",
      "3      For the most part this works pretty good. I bo...   \n",
      "4      This hose is supposed to be flexible.  Its har...   \n",
      "...                                                  ...   \n",
      "78824  my wife looks so good in this. wish we would h...   \n",
      "78825  I gave Forskolin a try since I really needed t...   \n",
      "78826  I incorporated Garcinia Cambogia with my exerc...   \n",
      "78827  I tried most lip balms and this Pina Colada fr...   \n",
      "78828  I bought the bottle of tablets as a bit of a s...   \n",
      "\n",
      "                       category  labels  \n",
      "0          Patio_Lawn_and_Garde      17  \n",
      "1          Patio_Lawn_and_Garde      17  \n",
      "2          Patio_Lawn_and_Garde      17  \n",
      "3          Patio_Lawn_and_Garde      17  \n",
      "4          Patio_Lawn_and_Garde      17  \n",
      "...                         ...     ...  \n",
      "78824  Health_and_Personal_Care      11  \n",
      "78825  Health_and_Personal_Care      11  \n",
      "78826  Health_and_Personal_Care      11  \n",
      "78827  Health_and_Personal_Care      11  \n",
      "78828  Health_and_Personal_Care      11  \n",
      "\n",
      "[78829 rows x 3 columns]\n"
     ]
    }
   ],
   "source": [
    "file = open(\"./reviews_devset.json\")\n",
    "\n",
    "reviews_devset = file.readlines()\n",
    "\n",
    "reviewsDF = pd.DataFrame.from_records(list(map(json.loads,reviews_devset)))\n",
    "\n",
    "print(reviewsDF)\n",
    "\n",
    "reviewsDF[\"category\"] = pd.Categorical(reviewsDF[\"category\"])\n",
    "reviewsDF[\"labels\"] = reviewsDF[\"category\"].cat.codes\n",
    "print(reviewsDF.loc[:,[\"reviewText\",\"category\",\"labels\"]])"
   ]
  },
  {
   "cell_type": "code",
   "execution_count": 46,
   "id": "848c8c4a-ff7f-4bb3-bfdb-ffbfef5ecda8",
   "metadata": {
    "tags": []
   },
   "outputs": [
    {
     "name": "stderr",
     "output_type": "stream",
     "text": [
      "/usr/lib/spark/python/pyspark/sql/pandas/conversion.py:371: FutureWarning: iteritems is deprecated and will be removed in a future version. Use .items instead.\n",
      "  for column, series in pdf.iteritems():\n"
     ]
    }
   ],
   "source": [
    "spark = SparkSession.builder.master(\"local[1]\").appName(\"part2ex2\").getOrCreate()\n",
    "\n",
    "spark_dff = spark.createDataFrame(reviewsDF.loc[:,[\"reviewText\",\"category\",\"labels\"]])"
   ]
  },
  {
   "cell_type": "code",
   "execution_count": 47,
   "id": "1de096b7-aa00-40be-88d6-7abc83f1ced2",
   "metadata": {
    "tags": []
   },
   "outputs": [
    {
     "name": "stderr",
     "output_type": "stream",
     "text": [
      "23/05/18 23:44:43 WARN TaskSetManager: Stage 27 contains a task of very large size (20042 KiB). The maximum recommended task size is 1000 KiB.\n",
      "23/05/18 23:44:50 WARN TaskSetManager: Stage 28 contains a task of very large size (20042 KiB). The maximum recommended task size is 1000 KiB.\n",
      "23/05/18 23:44:54 WARN PythonRunner: Detected deadlock while completing task 0.0 in stage 28 (TID 53): Attempting to kill Python Worker\n",
      "23/05/18 23:44:54 WARN TaskSetManager: Stage 29 contains a task of very large size (20042 KiB). The maximum recommended task size is 1000 KiB.\n",
      "23/05/18 23:45:01 WARN TaskSetManager: Stage 31 contains a task of very large size (20042 KiB). The maximum recommended task size is 1000 KiB.\n",
      "                                                                                \r"
     ]
    }
   ],
   "source": [
    "tokenizer = Tokenizer(inputCol=\"reviewText\", outputCol=\"rawWords\")\n",
    "\n",
    "remover = StopWordsRemover(\n",
    "    inputCol=tokenizer.getOutputCol(),\n",
    "    outputCol=\"words\",\n",
    "    caseSensitive=False)\n",
    "\n",
    "hashingTF = HashingTF(\n",
    "    inputCol=remover.getOutputCol(), outputCol=\"rawFeatures\", numFeatures=2000)\n",
    "\n",
    "idf = IDF(inputCol=hashingTF.getOutputCol(), outputCol=\"features\")\n",
    "\n",
    "selector = ChiSqSelector(\n",
    "    numTopFeatures=2000, \n",
    "    featuresCol=idf.getOutputCol(),\n",
    "    outputCol=\"selectedFeatures\", \n",
    "    labelCol=\"labels\"\n",
    "    )\n",
    "\n",
    "pipeline = Pipeline(stages=[tokenizer, remover, hashingTF, idf, selector])\n",
    "\n",
    "model = pipeline.fit(spark_dff)"
   ]
  },
  {
   "cell_type": "code",
   "execution_count": 48,
   "id": "d00a39cd-770f-4828-991d-c47075cca1ab",
   "metadata": {
    "tags": []
   },
   "outputs": [],
   "source": [
    "out = model.transform(spark_dff)"
   ]
  },
  {
   "cell_type": "code",
   "execution_count": 49,
   "id": "13ed560b-e42c-4e80-82ff-da5ec4f35a7a",
   "metadata": {
    "tags": []
   },
   "outputs": [
    {
     "name": "stderr",
     "output_type": "stream",
     "text": [
      "23/05/18 23:45:10 WARN TaskSetManager: Stage 33 contains a task of very large size (20042 KiB). The maximum recommended task size is 1000 KiB.\n",
      "                                                                                \r"
     ]
    }
   ],
   "source": [
    "out.toPandas().to_csv(\"test.csv\")"
   ]
  }
 ],
 "metadata": {
  "kernelspec": {
   "display_name": "Python 3",
   "language": "python",
   "name": "python3"
  },
  "language_info": {
   "codemirror_mode": {
    "name": "ipython",
    "version": 3
   },
   "file_extension": ".py",
   "mimetype": "text/x-python",
   "name": "python",
   "nbconvert_exporter": "python",
   "pygments_lexer": "ipython3",
   "version": "3.9.8"
  }
 },
 "nbformat": 4,
 "nbformat_minor": 5
}
